{
 "cells": [
  {
   "cell_type": "code",
   "execution_count": 2,
   "id": "1a6c3017",
   "metadata": {},
   "outputs": [],
   "source": [
    "# import neccesary libraries\n",
    "\n",
    "import cv2\n",
    "import numpy as np\n",
    "from cvzone.HandTrackingModule import HandDetector"
   ]
  },
  {
   "cell_type": "code",
   "execution_count": 3,
   "id": "e82952fb",
   "metadata": {},
   "outputs": [],
   "source": [
    "# Set the height and width of the camera frame\n",
    "\n",
    "height = 480\n",
    "width = 1280"
   ]
  },
  {
   "cell_type": "code",
   "execution_count": 4,
   "id": "609d4455",
   "metadata": {},
   "outputs": [
    {
     "data": {
      "text/plain": [
       "True"
      ]
     },
     "execution_count": 4,
     "metadata": {},
     "output_type": "execute_result"
    }
   ],
   "source": [
    "# Video capture object read from the camera\n",
    "\n",
    "cap = cv2.VideoCapture(0)\n",
    "cap.set(cv2.CAP_PROP_FRAME_HEIGHT, height)\n",
    "cap.set(cv2.CAP_PROP_FRAME_WIDTH, width)"
   ]
  },
  {
   "cell_type": "code",
   "execution_count": 5,
   "id": "937c4f1d",
   "metadata": {},
   "outputs": [],
   "source": [
    "# Create a separate window with the desired dimensions\n",
    "output_height = 480\n",
    "output_width = 640\n",
    "cv2.namedWindow(\"Output Screen\", cv2.WINDOW_NORMAL)\n",
    "cv2.resizeWindow(\"Output Screen\", output_width, output_height)"
   ]
  },
  {
   "cell_type": "code",
   "execution_count": 6,
   "id": "913e786f",
   "metadata": {},
   "outputs": [],
   "source": [
    "# object of HandDetector\n",
    "\n",
    "detector = HandDetector(detectionCon=0.8, maxHands=1)"
   ]
  },
  {
   "cell_type": "code",
   "execution_count": 7,
   "id": "5e9e1c71",
   "metadata": {},
   "outputs": [],
   "source": [
    "# anootation variable\n",
    "\n",
    "annotation = [[]]\n",
    "annotationStart = False\n",
    "annotationNumber = -1"
   ]
  },
  {
   "cell_type": "code",
   "execution_count": 8,
   "id": "45b029f5",
   "metadata": {},
   "outputs": [],
   "source": [
    "shapeName = \"\""
   ]
  },
  {
   "cell_type": "code",
   "execution_count": 9,
   "id": "900ef582",
   "metadata": {},
   "outputs": [],
   "source": [
    "def shapeClassification(contour):\n",
    "    # Approximate the contour to determine the shape\n",
    "\n",
    "    perimeter = cv2.arcLength(contour, True)\n",
    "\n",
    "    approx = cv2.approxPolyDP(contour, 0.04 * perimeter, True)\n",
    "\n",
    "    # Classify the shape based on the number of sides\n",
    "\n",
    "    if len(approx) == 3:\n",
    "        return \"Triangle\"\n",
    "\n",
    "    elif len(approx) == 4:\n",
    "        x, y, w, h = cv2.boundingRect(approx)\n",
    "        aspectRatio = float(w) / h\n",
    "\n",
    "        if 0.95 <= aspectRatio <= 1.05:\n",
    "            return \"Square\"\n",
    "        else:\n",
    "            return \"Rectangle\"\n",
    "\n",
    "    elif len(approx) == 5:\n",
    "        return \"Pentagon\"\n",
    "\n",
    "    else:\n",
    "        return \"Circle\""
   ]
  },
  {
   "cell_type": "code",
   "execution_count": 10,
   "id": "331f2751",
   "metadata": {},
   "outputs": [],
   "source": [
    "while True:\n",
    "\n",
    "    success, img = cap.read()\n",
    "\n",
    "    img = cv2.flip(img, 1)\n",
    "    hands, img = detector.findHands(img)\n",
    "\n",
    "    # Finger detection\n",
    "    \n",
    "    if hands:\n",
    "        hand = hands[0]\n",
    "        fingers = detector.fingersUp(hand)\n",
    "        lmList = hand['lmList']\n",
    "\n",
    "        # Value for easier drawing\n",
    "        yVal = int(np.interp(lmList[8][1], [100, height - 100], [0, output_height]))\n",
    "        indexFinger = lmList[8][0], yVal\n",
    "\n",
    "        # Pointer show\n",
    "        if fingers == [0, 1, 1, 0, 0]:\n",
    "            cv2.circle(img, indexFinger, 12, (0, 0, 255), cv2.FILLED)\n",
    "\n",
    "        # Draw pointer\n",
    "        if fingers == [0, 1, 0, 0, 0]:\n",
    "            if annotationStart is False:\n",
    "                annotationStart = True\n",
    "                annotationNumber += 1\n",
    "                annotation.append([])\n",
    "            cv2.circle(img, indexFinger, 12, (0, 0, 255), cv2.FILLED)\n",
    "            annotation[annotationNumber].append(indexFinger)\n",
    "        else:\n",
    "            if annotationStart:\n",
    "                annotationStart = False\n",
    "                if len(annotation[annotationNumber]) > 2:\n",
    "                    # Convert the annotation to a NumPy array and find the contour\n",
    "                    contour = np.array(annotation[annotationNumber], dtype=np.int32)\n",
    "                    cv2.drawContours(img, [contour], 0, (0, 255, 0), 2)\n",
    "                    shapeName = shapeClassification(contour)\n",
    "\n",
    "            # Erase from Output screen\n",
    "            if fingers == [0, 1, 1, 1, 0]:\n",
    "                if annotation:\n",
    "                    annotation.pop(-1)\n",
    "                    annotationNumber -= 1\n",
    "                    shapeName = \"\"\n",
    "\n",
    "    for i in range(len(annotation)):\n",
    "        for j in range(len(annotation[i])):\n",
    "            if j != 0:\n",
    "                cv2.line(img, annotation[i][j - 1], annotation[i][j], (0, 0, 255), 12)\n",
    "\n",
    "    if shapeName:\n",
    "        cv2.putText(img, shapeName, (380, 360), cv2.FONT_HERSHEY_SIMPLEX, 1, (0, 0, 0), 2, cv2.LINE_AA)\n",
    "\n",
    "    # Resize the captured frame before displaying it in the output screen\n",
    "    img = cv2.resize(img, (output_width, output_height))\n",
    "\n",
    "    # Output screen\n",
    "    cv2.imshow(\"Output Screen\", img)\n",
    "    Key = cv2.waitKey(1)\n",
    "\n",
    "    if Key == ord('q'):\n",
    "        break\n",
    "        \n",
    "        "
   ]
  }
 ],
 "metadata": {
  "kernelspec": {
   "display_name": "Python 3 (ipykernel)",
   "language": "python",
   "name": "python3"
  },
  "language_info": {
   "codemirror_mode": {
    "name": "ipython",
    "version": 3
   },
   "file_extension": ".py",
   "mimetype": "text/x-python",
   "name": "python",
   "nbconvert_exporter": "python",
   "pygments_lexer": "ipython3",
   "version": "3.10.12"
  }
 },
 "nbformat": 4,
 "nbformat_minor": 5
}
